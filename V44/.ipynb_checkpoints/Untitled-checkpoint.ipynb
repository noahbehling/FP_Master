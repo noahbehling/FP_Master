{
 "cells": [
  {
   "cell_type": "code",
   "execution_count": 1,
   "metadata": {},
   "outputs": [],
   "source": [
    "import numpy as np\n",
    "import matplotlib as mpl\n",
    "import matplotlib.pyplot as plt"
   ]
  },
  {
   "cell_type": "code",
   "execution_count": 3,
   "metadata": {},
   "outputs": [],
   "source": [
    "a, R_G = np.genfromtxt('build/R_G.csv',delimiter=',',unpack=True)"
   ]
  },
  {
   "cell_type": "code",
   "execution_count": 4,
   "metadata": {},
   "outputs": [],
   "source": [
    "# Konstanten\n",
    "n1 = 1\n",
    "z1 = 0\n",
    "lambda_ = 1.54*10**(-10) # m\n",
    "k = 2*np.pi/lambda_ \n"
   ]
  },
  {
   "cell_type": "code",
   "execution_count": 5,
   "metadata": {},
   "outputs": [],
   "source": [
    "# Schätzwerte aus der Anleitung\n",
    "delta2 = 1.*10**(-6)\n",
    "delta3 = 2.*10**(-6)\n",
    "sigma1 = 8.*10**(-10) # m\n",
    "sigma2 = 3.*10**(-10) # m\n",
    "z2 = 500*10**(-10) # m\n",
    "# Schätzwerte\n",
    "delta2 = 0.7*10**(-6)\n",
    "delta3 = 6.6*10**(-6)\n",
    "sigma1 = 8.1*10**(-10) # m\n",
    "sigma2 = 5.7*10**(-10) # m\n",
    "z2 = 870*10**(-10) # m"
   ]
  },
  {
   "cell_type": "code",
   "execution_count": 6,
   "metadata": {},
   "outputs": [],
   "source": [
    "def parrat_rau(a_i,delta2,delta3,sigma1,sigma2,z2):\n",
    "    n2 = 1. - delta2\n",
    "    n3 = 1. - delta3\n",
    "\n",
    "    a_i = np.deg2rad(a_i)\n",
    "\n",
    "    kz1 = k * np.sqrt(np.abs(n1**2 - np.cos(a_i)**2))\n",
    "    kz2 = k * np.sqrt(np.abs(n2**2 - np.cos(a_i)**2))\n",
    "    kz3 = k * np.sqrt(np.abs(n3**2 - np.cos(a_i)**2))\n",
    "\n",
    "    r12 = (kz1 - kz2) / (kz1 + kz2) * np.exp(-2 * kz1 * kz2 * sigma1**2)\n",
    "    r23 = (kz2 - kz3) / (kz2 + kz3) * np.exp(-2 * kz2 * kz3 * sigma2**2)\n",
    "\n",
    "    x2 = np.exp(-2j * kz2 * z2) * r23\n",
    "    x1 = (r12 + x2) / (1 + r12 * x2)\n",
    "    R_parr = np.abs(x1)**2\n",
    "\n",
    "    return R_parr\n"
   ]
  },
  {
   "cell_type": "code",
   "execution_count": 7,
   "metadata": {},
   "outputs": [],
   "source": [
    "mpl.rcParams['lines.linewidth'] = 0.9\n",
    "mpl.rcParams['axes.grid.which'] = 'major'\n"
   ]
  },
  {
   "cell_type": "code",
   "execution_count": 8,
   "metadata": {},
   "outputs": [],
   "source": [
    "def plot(delta2 = 0.7,\n",
    "        delta3 = 6.6,\n",
    "        sigma1 = 8.1,\n",
    "        sigma2 = 5.7,\n",
    "        z2 = 8.70\n",
    "        ):\n",
    "    delta2 *= 10**(-6)\n",
    "    delta3 *= 10**(-6)\n",
    "    sigma1 *= 10**(-10)\n",
    "    sigma2 *= 10**(-10)\n",
    "    z2 *= 10**(-8)\n",
    "    params = [delta2,delta3,sigma1,sigma2,z2]\n",
    "    R_parr = parrat_rau(a, *params)\n",
    "    R_parr[a <= 0.21] = np.nan\n",
    "    plt.figure(figsize=(15,10))\n",
    "    plt.plot(a, R_G, '-', label=r'(Reflektivitätsscan - Diffuser Scan)*\\cdot G')\n",
    "    plt.plot(a, R_parr, '-', label=r'Theoriekurve')\n",
    "    plt.yscale('log')\n",
    "    plt.legend()"
   ]
  },
  {
   "cell_type": "code",
   "execution_count": 9,
   "metadata": {},
   "outputs": [],
   "source": [
    "\n",
    "\n",
    "# bounds and stepsize\n",
    "delta2 = 0.7\n",
    "delta3 = 6.6\n",
    "sigma1 = 8.1\n",
    "sigma2 = 5.7\n",
    "z2 = 8.7\n",
    "p0 = np.array([delta2,delta3,sigma1,sigma2,z2])\n",
    "lower_bounds = p0 - 3.\n",
    "upper_bounds = p0 + 3.\n",
    "steps = p0 - p0 + 0.05\n",
    "param_names = ['delta2','delta3','sigma1','sigma2','z2']\n",
    "interactive_params = {name : (lower,upper,step) for lower,upper,step,name in zip(lower_bounds,upper_bounds,steps,param_names)}\n",
    "\n"
   ]
  },
  {
   "cell_type": "code",
   "execution_count": 10,
   "metadata": {},
   "outputs": [
    {
     "data": {
      "text/plain": [
       "{'delta2': (-2.3, 3.7, 0.05),\n",
       " 'delta3': (3.5999999999999996, 9.6, 0.05),\n",
       " 'sigma1': (5.1, 11.1, 0.05),\n",
       " 'sigma2': (2.7, 8.7, 0.05),\n",
       " 'z2': (5.699999999999999, 11.7, 0.05)}"
      ]
     },
     "execution_count": 10,
     "metadata": {},
     "output_type": "execute_result"
    }
   ],
   "source": [
    "\n",
    "\n",
    "interactive_params\n",
    "\n",
    "\n"
   ]
  },
  {
   "cell_type": "code",
   "execution_count": 11,
   "metadata": {},
   "outputs": [],
   "source": [
    "from ipywidgets import interact"
   ]
  },
  {
   "cell_type": "code",
   "execution_count": 12,
   "metadata": {},
   "outputs": [
    {
     "data": {
      "application/vnd.jupyter.widget-view+json": {
       "model_id": "c204c9abce13449ebf3d8754f5b42e09",
       "version_major": 2,
       "version_minor": 0
      },
      "text/plain": [
       "interactive(children=(FloatSlider(value=0.7, description='delta2', max=3.7, min=-2.3, step=0.05), FloatSlider(…"
      ]
     },
     "metadata": {},
     "output_type": "display_data"
    },
    {
     "data": {
      "text/plain": [
       "<function __main__.plot(delta2=0.7, delta3=6.6, sigma1=8.1, sigma2=5.7, z2=8.7)>"
      ]
     },
     "execution_count": 12,
     "metadata": {},
     "output_type": "execute_result"
    }
   ],
   "source": [
    "interact(plot,**interactive_params)"
   ]
  },
  {
   "cell_type": "code",
   "execution_count": 13,
   "metadata": {},
   "outputs": [],
   "source": [
    "\n",
    "\n",
    "# Werte die gut passen\n",
    "delta2 = 0.5*10**(-6)\n",
    "delta3 = 6.75*10**(-6)\n",
    "sigma1 = 8.0*10**(-10) # m\n",
    "sigma2 = 6.3*10**(-10) # m\n",
    "z2 = 8.55*10**(-8) # m\n",
    "\n"
   ]
  },
  {
   "cell_type": "code",
   "execution_count": 14,
   "metadata": {},
   "outputs": [
    {
     "data": {
      "application/vnd.jupyter.widget-view+json": {
       "model_id": "06cbe7c494df4c098b4f788f41a0de16",
       "version_major": 2,
       "version_minor": 0
      },
      "text/plain": [
       "interactive(children=(FloatSlider(value=0.7, description='delta2', max=3.7, min=-2.3, step=0.05), FloatSlider(…"
      ]
     },
     "metadata": {},
     "output_type": "display_data"
    },
    {
     "data": {
      "text/plain": [
       "<function __main__.plot(delta2=0.7, delta3=6.6, sigma1=8.1, sigma2=5.7, z2=8.7)>"
      ]
     },
     "execution_count": 14,
     "metadata": {},
     "output_type": "execute_result"
    }
   ],
   "source": [
    "\n",
    "\n",
    "interact(plot,**interactive_params)\n",
    "\n"
   ]
  },
  {
   "cell_type": "code",
   "execution_count": null,
   "metadata": {},
   "outputs": [],
   "source": []
  },
  {
   "cell_type": "code",
   "execution_count": null,
   "metadata": {},
   "outputs": [],
   "source": []
  },
  {
   "cell_type": "code",
   "execution_count": null,
   "metadata": {},
   "outputs": [],
   "source": []
  },
  {
   "cell_type": "code",
   "execution_count": null,
   "metadata": {},
   "outputs": [],
   "source": []
  },
  {
   "cell_type": "code",
   "execution_count": null,
   "metadata": {},
   "outputs": [],
   "source": []
  }
 ],
 "metadata": {
  "kernelspec": {
   "display_name": "Python 3",
   "language": "python",
   "name": "python3"
  },
  "language_info": {
   "codemirror_mode": {
    "name": "ipython",
    "version": 3
   },
   "file_extension": ".py",
   "mimetype": "text/x-python",
   "name": "python",
   "nbconvert_exporter": "python",
   "pygments_lexer": "ipython3",
   "version": "3.7.6"
  }
 },
 "nbformat": 4,
 "nbformat_minor": 4
}
